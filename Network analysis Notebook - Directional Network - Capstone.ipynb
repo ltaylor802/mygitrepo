{
 "cells": [
  {
   "cell_type": "markdown",
   "metadata": {},
   "source": [
    "### Network Analysis Notebook"
   ]
  },
  {
   "cell_type": "code",
   "execution_count": 1,
   "metadata": {},
   "outputs": [],
   "source": [
    "#import pandas to load dataframe\n",
    "import pandas as pd\n",
    "\n",
    "#import matplot lib for charts\n",
    "import matplotlib.pyplot as plt\n",
    "\n",
    "import numpy as np"
   ]
  },
  {
   "cell_type": "code",
   "execution_count": 6,
   "metadata": {},
   "outputs": [
    {
     "data": {
      "text/html": [
       "<div>\n",
       "<style scoped>\n",
       "    .dataframe tbody tr th:only-of-type {\n",
       "        vertical-align: middle;\n",
       "    }\n",
       "\n",
       "    .dataframe tbody tr th {\n",
       "        vertical-align: top;\n",
       "    }\n",
       "\n",
       "    .dataframe thead th {\n",
       "        text-align: right;\n",
       "    }\n",
       "</style>\n",
       "<table border=\"1\" class=\"dataframe\">\n",
       "  <thead>\n",
       "    <tr style=\"text-align: right;\">\n",
       "      <th></th>\n",
       "      <th>fullVisitorId</th>\n",
       "      <th>visitId</th>\n",
       "      <th>visitNumber</th>\n",
       "      <th>transactions</th>\n",
       "      <th>hitNumber</th>\n",
       "      <th>pagePath</th>\n",
       "    </tr>\n",
       "  </thead>\n",
       "  <tbody>\n",
       "    <tr>\n",
       "      <th>0</th>\n",
       "      <td>2981907656334968431</td>\n",
       "      <td>1495087388</td>\n",
       "      <td>1</td>\n",
       "      <td>NaN</td>\n",
       "      <td>8</td>\n",
       "      <td>/google+redesign/shop+by+brand</td>\n",
       "    </tr>\n",
       "    <tr>\n",
       "      <th>1</th>\n",
       "      <td>2981907656334968431</td>\n",
       "      <td>1495087388</td>\n",
       "      <td>1</td>\n",
       "      <td>NaN</td>\n",
       "      <td>10</td>\n",
       "      <td>/google+redesign/shop+by+brand/quickview</td>\n",
       "    </tr>\n",
       "    <tr>\n",
       "      <th>2</th>\n",
       "      <td>2981907656334968431</td>\n",
       "      <td>1495087388</td>\n",
       "      <td>1</td>\n",
       "      <td>NaN</td>\n",
       "      <td>12</td>\n",
       "      <td>/google+redesign/bags/backpacks/waterproof+bac...</td>\n",
       "    </tr>\n",
       "    <tr>\n",
       "      <th>3</th>\n",
       "      <td>2981907656334968431</td>\n",
       "      <td>1495087388</td>\n",
       "      <td>1</td>\n",
       "      <td>NaN</td>\n",
       "      <td>13</td>\n",
       "      <td>/google+redesign/apparel</td>\n",
       "    </tr>\n",
       "    <tr>\n",
       "      <th>4</th>\n",
       "      <td>2981907656334968431</td>\n",
       "      <td>1495087388</td>\n",
       "      <td>1</td>\n",
       "      <td>NaN</td>\n",
       "      <td>14</td>\n",
       "      <td>/signin.html</td>\n",
       "    </tr>\n",
       "    <tr>\n",
       "      <th>5</th>\n",
       "      <td>2981907656334968431</td>\n",
       "      <td>1495087388</td>\n",
       "      <td>1</td>\n",
       "      <td>NaN</td>\n",
       "      <td>15</td>\n",
       "      <td>/registersuccess.html</td>\n",
       "    </tr>\n",
       "    <tr>\n",
       "      <th>6</th>\n",
       "      <td>2981907656334968431</td>\n",
       "      <td>1495087388</td>\n",
       "      <td>1</td>\n",
       "      <td>NaN</td>\n",
       "      <td>16</td>\n",
       "      <td>/store.html</td>\n",
       "    </tr>\n",
       "    <tr>\n",
       "      <th>7</th>\n",
       "      <td>2981907656334968431</td>\n",
       "      <td>1495087388</td>\n",
       "      <td>1</td>\n",
       "      <td>NaN</td>\n",
       "      <td>17</td>\n",
       "      <td>/google+redesign/apparel/mens/mens+t+shirts</td>\n",
       "    </tr>\n",
       "    <tr>\n",
       "      <th>8</th>\n",
       "      <td>2981907656334968431</td>\n",
       "      <td>1495087388</td>\n",
       "      <td>1</td>\n",
       "      <td>NaN</td>\n",
       "      <td>19</td>\n",
       "      <td>/google+redesign/apparel/mens/mens+t+shirts/qu...</td>\n",
       "    </tr>\n",
       "    <tr>\n",
       "      <th>9</th>\n",
       "      <td>2981907656334968431</td>\n",
       "      <td>1495087388</td>\n",
       "      <td>1</td>\n",
       "      <td>NaN</td>\n",
       "      <td>21</td>\n",
       "      <td>/google+redesign/apparel/men+s+t+shirts/google...</td>\n",
       "    </tr>\n",
       "    <tr>\n",
       "      <th>10</th>\n",
       "      <td>2981907656334968431</td>\n",
       "      <td>1495087388</td>\n",
       "      <td>1</td>\n",
       "      <td>NaN</td>\n",
       "      <td>22</td>\n",
       "      <td>/google+redesign/apparel/men+s+t+shirts/google...</td>\n",
       "    </tr>\n",
       "    <tr>\n",
       "      <th>11</th>\n",
       "      <td>2981907656334968431</td>\n",
       "      <td>1495087388</td>\n",
       "      <td>1</td>\n",
       "      <td>NaN</td>\n",
       "      <td>23</td>\n",
       "      <td>/google+redesign/apparel/men+s+t+shirts/google...</td>\n",
       "    </tr>\n",
       "    <tr>\n",
       "      <th>12</th>\n",
       "      <td>2981907656334968431</td>\n",
       "      <td>1495087388</td>\n",
       "      <td>1</td>\n",
       "      <td>NaN</td>\n",
       "      <td>24</td>\n",
       "      <td>/google+redesign/apparel/men+s+t+shirts/google...</td>\n",
       "    </tr>\n",
       "    <tr>\n",
       "      <th>13</th>\n",
       "      <td>2981907656334968431</td>\n",
       "      <td>1495522577</td>\n",
       "      <td>2</td>\n",
       "      <td>NaN</td>\n",
       "      <td>1</td>\n",
       "      <td>/google+redesign/apparel/mens/mens+t+shirts</td>\n",
       "    </tr>\n",
       "    <tr>\n",
       "      <th>14</th>\n",
       "      <td>2981907656334968431</td>\n",
       "      <td>1495522577</td>\n",
       "      <td>2</td>\n",
       "      <td>NaN</td>\n",
       "      <td>2</td>\n",
       "      <td>/home</td>\n",
       "    </tr>\n",
       "    <tr>\n",
       "      <th>15</th>\n",
       "      <td>2981907656334968431</td>\n",
       "      <td>1495522577</td>\n",
       "      <td>2</td>\n",
       "      <td>NaN</td>\n",
       "      <td>3</td>\n",
       "      <td>/google+redesign/apparel</td>\n",
       "    </tr>\n",
       "    <tr>\n",
       "      <th>16</th>\n",
       "      <td>2981907656334968431</td>\n",
       "      <td>1495522577</td>\n",
       "      <td>2</td>\n",
       "      <td>NaN</td>\n",
       "      <td>4</td>\n",
       "      <td>/google+redesign/apparel/mens/mens+t+shirts</td>\n",
       "    </tr>\n",
       "    <tr>\n",
       "      <th>17</th>\n",
       "      <td>2981907656334968431</td>\n",
       "      <td>1495522577</td>\n",
       "      <td>2</td>\n",
       "      <td>NaN</td>\n",
       "      <td>5</td>\n",
       "      <td>/google+redesign/apparel/mens/mens+t+shirts</td>\n",
       "    </tr>\n",
       "    <tr>\n",
       "      <th>18</th>\n",
       "      <td>2981907656334968431</td>\n",
       "      <td>1495522577</td>\n",
       "      <td>2</td>\n",
       "      <td>NaN</td>\n",
       "      <td>6</td>\n",
       "      <td>/basket.html</td>\n",
       "    </tr>\n",
       "    <tr>\n",
       "      <th>19</th>\n",
       "      <td>2981907656334968431</td>\n",
       "      <td>1495522577</td>\n",
       "      <td>2</td>\n",
       "      <td>NaN</td>\n",
       "      <td>7</td>\n",
       "      <td>/signin.html</td>\n",
       "    </tr>\n",
       "  </tbody>\n",
       "</table>\n",
       "</div>"
      ],
      "text/plain": [
       "          fullVisitorId     visitId  visitNumber  transactions  hitNumber  \\\n",
       "0   2981907656334968431  1495087388            1           NaN          8   \n",
       "1   2981907656334968431  1495087388            1           NaN         10   \n",
       "2   2981907656334968431  1495087388            1           NaN         12   \n",
       "3   2981907656334968431  1495087388            1           NaN         13   \n",
       "4   2981907656334968431  1495087388            1           NaN         14   \n",
       "5   2981907656334968431  1495087388            1           NaN         15   \n",
       "6   2981907656334968431  1495087388            1           NaN         16   \n",
       "7   2981907656334968431  1495087388            1           NaN         17   \n",
       "8   2981907656334968431  1495087388            1           NaN         19   \n",
       "9   2981907656334968431  1495087388            1           NaN         21   \n",
       "10  2981907656334968431  1495087388            1           NaN         22   \n",
       "11  2981907656334968431  1495087388            1           NaN         23   \n",
       "12  2981907656334968431  1495087388            1           NaN         24   \n",
       "13  2981907656334968431  1495522577            2           NaN          1   \n",
       "14  2981907656334968431  1495522577            2           NaN          2   \n",
       "15  2981907656334968431  1495522577            2           NaN          3   \n",
       "16  2981907656334968431  1495522577            2           NaN          4   \n",
       "17  2981907656334968431  1495522577            2           NaN          5   \n",
       "18  2981907656334968431  1495522577            2           NaN          6   \n",
       "19  2981907656334968431  1495522577            2           NaN          7   \n",
       "\n",
       "                                             pagePath  \n",
       "0                      /google+redesign/shop+by+brand  \n",
       "1            /google+redesign/shop+by+brand/quickview  \n",
       "2   /google+redesign/bags/backpacks/waterproof+bac...  \n",
       "3                            /google+redesign/apparel  \n",
       "4                                        /signin.html  \n",
       "5                               /registersuccess.html  \n",
       "6                                         /store.html  \n",
       "7         /google+redesign/apparel/mens/mens+t+shirts  \n",
       "8   /google+redesign/apparel/mens/mens+t+shirts/qu...  \n",
       "9   /google+redesign/apparel/men+s+t+shirts/google...  \n",
       "10  /google+redesign/apparel/men+s+t+shirts/google...  \n",
       "11  /google+redesign/apparel/men+s+t+shirts/google...  \n",
       "12  /google+redesign/apparel/men+s+t+shirts/google...  \n",
       "13        /google+redesign/apparel/mens/mens+t+shirts  \n",
       "14                                              /home  \n",
       "15                           /google+redesign/apparel  \n",
       "16        /google+redesign/apparel/mens/mens+t+shirts  \n",
       "17        /google+redesign/apparel/mens/mens+t+shirts  \n",
       "18                                       /basket.html  \n",
       "19                                       /signin.html  "
      ]
     },
     "execution_count": 6,
     "metadata": {},
     "output_type": "execute_result"
    }
   ],
   "source": [
    "#import data from data pulled from Google Big Query\n",
    "df1 = pd.read_csv('data/no nested values/bq-results-20190606-233531-zcn39saozy97.csv')\n",
    "df1.head(20)\n",
    "\n",
    "#confirmed that for each fullvisitorID, the hit number is asorted ascending"
   ]
  },
  {
   "cell_type": "code",
   "execution_count": 3,
   "metadata": {},
   "outputs": [
    {
     "data": {
      "text/plain": [
       "(3478466, 6)"
      ]
     },
     "execution_count": 3,
     "metadata": {},
     "output_type": "execute_result"
    }
   ],
   "source": [
    "df1.shape"
   ]
  },
  {
   "cell_type": "markdown",
   "metadata": {},
   "source": [
    "### Checking Features\n"
   ]
  },
  {
   "cell_type": "markdown",
   "metadata": {},
   "source": [
    "#### Check for nan values"
   ]
  },
  {
   "cell_type": "code",
   "execution_count": 4,
   "metadata": {},
   "outputs": [
    {
     "data": {
      "text/plain": [
       "fullVisitorId          0\n",
       "visitId                0\n",
       "visitNumber            0\n",
       "transactions     3150906\n",
       "hitNumber              0\n",
       "pagePath               0\n",
       "dtype: int64"
      ]
     },
     "execution_count": 4,
     "metadata": {},
     "output_type": "execute_result"
    }
   ],
   "source": [
    "#check the columns that have nan values - how many nan values are present\n",
    "df1.isna().sum()"
   ]
  },
  {
   "cell_type": "markdown",
   "metadata": {},
   "source": [
    "'Transactions' feature has some Nan values that need to be dealt with before running my model. "
   ]
  },
  {
   "cell_type": "markdown",
   "metadata": {},
   "source": [
    "#### Transactions\n",
    "Total number of ecommerce transactions within the session."
   ]
  },
  {
   "cell_type": "code",
   "execution_count": 5,
   "metadata": {},
   "outputs": [
    {
     "data": {
      "text/plain": [
       "0.0     3150906\n",
       "1.0      305329\n",
       "2.0       14308\n",
       "3.0        2093\n",
       "4.0        1274\n",
       "6.0        1215\n",
       "7.0         830\n",
       "5.0         789\n",
       "25.0        466\n",
       "8.0         401\n",
       "21.0        358\n",
       "10.0        182\n",
       "12.0        176\n",
       "15.0        139\n",
       "Name: transactions, dtype: int64"
      ]
     },
     "execution_count": 5,
     "metadata": {},
     "output_type": "execute_result"
    }
   ],
   "source": [
    "df1['transactions'] = df1['transactions'].fillna(0)\n",
    "df1['transactions'].value_counts().sort_values(ascending=False)"
   ]
  },
  {
   "cell_type": "markdown",
   "metadata": {},
   "source": [
    "### Look at all features separatetly\n"
   ]
  },
  {
   "cell_type": "markdown",
   "metadata": {},
   "source": [
    "#### FullVisitorId\n",
    "\n",
    "Some visitors are visiting/making a hit on the website up to 4000 times. This could be in one visit (each hit is a count) or it could be during different sessions."
   ]
  },
  {
   "cell_type": "code",
   "execution_count": 9,
   "metadata": {},
   "outputs": [
    {
     "data": {
      "text/plain": [
       "1957458976293878100    4160\n",
       "824839726118485274     2707\n",
       "1856749147915772585    1715\n",
       "9894955795481014038    1496\n",
       "7634897085866546110    1006\n",
       "4913801338365738862     858\n",
       "5208937953046059083     856\n",
       "232377434237234751      851\n",
       "2194592743396253647     823\n",
       "7813149961404844386     815\n",
       "7483600664917507409     785\n",
       "8197879643797712877     782\n",
       "7311242886083854158     773\n",
       "4835082938415020542     771\n",
       "6760732402251466726     760\n",
       "7344519175727343086     760\n",
       "5590743844926892757     733\n",
       "1956307607572137989     710\n",
       "743123551680199202      694\n",
       "9377429831454005466     685\n",
       "9089132392240687728     670\n",
       "6010250598436085923     662\n",
       "1814166460229302850     640\n",
       "315017261115039181      621\n",
       "6254908847172458133     619\n",
       "4309363468347582056     609\n",
       "2446685875964479851     598\n",
       "741993131378886687      591\n",
       "3694234028523165868     587\n",
       "9609104828919391966     579\n",
       "                       ... \n",
       "1033234853722074138       1\n",
       "8959752154799553404       1\n",
       "1930815861872693566       1\n",
       "852937226459058492        1\n",
       "2127219676660142393       1\n",
       "2799929383483904310       1\n",
       "4627194484529555913       1\n",
       "8951032212801491236       1\n",
       "9281942252669407520       1\n",
       "261640248847274343        1\n",
       "6324675014864703847       1\n",
       "4325951165174459510       1\n",
       "4987828499138776950       1\n",
       "1366328834383449961       1\n",
       "8174700862867541889       1\n",
       "3213100899973762945       1\n",
       "310924005835837311        1\n",
       "8108524223866476374       1\n",
       "452357902864251           1\n",
       "817712775649070970        1\n",
       "1776681688836941951       1\n",
       "572747405498634005        1\n",
       "8850827375959066604       1\n",
       "5777035871069304970       1\n",
       "6906902716469776235       1\n",
       "4606988442784545996       1\n",
       "262598178985774979        1\n",
       "8302091399784600020       1\n",
       "5685259191741878362       1\n",
       "112930474522836992        1\n",
       "Name: fullVisitorId, Length: 714163, dtype: int64"
      ]
     },
     "execution_count": 9,
     "metadata": {},
     "output_type": "execute_result"
    }
   ],
   "source": [
    "df1['fullVisitorId'].value_counts().sort_values(ascending=False)\n"
   ]
  },
  {
   "cell_type": "markdown",
   "metadata": {},
   "source": [
    "#### hitNumber\n",
    "\n",
    "The sequenced hit number. For the first hit of each session, this is set to 1."
   ]
  },
  {
   "cell_type": "code",
   "execution_count": 12,
   "metadata": {
    "scrolled": true
   },
   "outputs": [
    {
     "data": {
      "text/plain": [
       "1      896425\n",
       "2      413818\n",
       "3      278001\n",
       "4      202952\n",
       "5      161798\n",
       "6      133891\n",
       "7      118780\n",
       "8      100728\n",
       "9       90008\n",
       "10      78377\n",
       "11      70794\n",
       "12      63227\n",
       "13      57715\n",
       "14      51961\n",
       "15      47522\n",
       "16      42931\n",
       "17      39577\n",
       "18      36400\n",
       "19      33633\n",
       "20      30829\n",
       "21      28672\n",
       "22      26274\n",
       "23      24576\n",
       "24      22904\n",
       "25      21375\n",
       "26      19734\n",
       "27      18615\n",
       "28      17303\n",
       "29      16336\n",
       "30      15351\n",
       "        ...  \n",
       "464         9\n",
       "483         9\n",
       "476         8\n",
       "450         8\n",
       "446         8\n",
       "441         8\n",
       "438         8\n",
       "466         8\n",
       "420         8\n",
       "472         8\n",
       "500         8\n",
       "479         8\n",
       "480         8\n",
       "485         8\n",
       "497         8\n",
       "496         8\n",
       "474         7\n",
       "461         7\n",
       "458         7\n",
       "456         7\n",
       "491         7\n",
       "499         7\n",
       "493         7\n",
       "490         7\n",
       "487         6\n",
       "492         6\n",
       "494         6\n",
       "484         5\n",
       "489         5\n",
       "481         4\n",
       "Name: hitNumber, Length: 500, dtype: int64"
      ]
     },
     "execution_count": 12,
     "metadata": {},
     "output_type": "execute_result"
    }
   ],
   "source": [
    "df1['hitNumber'].value_counts().sort_values(ascending=False)"
   ]
  },
  {
   "cell_type": "markdown",
   "metadata": {},
   "source": [
    "#### pagePath\n",
    "\n",
    "The URL path of the page."
   ]
  },
  {
   "cell_type": "code",
   "execution_count": 13,
   "metadata": {
    "scrolled": false
   },
   "outputs": [
    {
     "data": {
      "text/plain": [
       "/home                                                                                                                                                                                                   981285\n",
       "/basket.html                                                                                                                                                                                            209360\n",
       "/google+redesign/shop+by+brand/youtube                                                                                                                                                                  145026\n",
       "/signin.html                                                                                                                                                                                            101299\n",
       "/store.html                                                                                                                                                                                              93551\n",
       "/google+redesign/apparel/men++s/men++s+t+shirts                                                                                                                                                          67471\n",
       "/asearch.html                                                                                                                                                                                            62380\n",
       "/google+redesign/electronics                                                                                                                                                                             56839\n",
       "/google+redesign/apparel                                                                                                                                                                                 56552\n",
       "/google+redesign/bags                                                                                                                                                                                    53686\n",
       "/google+redesign/drinkware                                                                                                                                                                               51706\n",
       "/google+redesign/office                                                                                                                                                                                  49580\n",
       "/google+redesign/shop+by+brand/google                                                                                                                                                                    43022\n",
       "/google+redesign/apparel/mens/mens+t+shirts                                                                                                                                                              38358\n",
       "/google+redesign/apparel/men++s/men++s+outerwear                                                                                                                                                         37872\n",
       "/yourinfo.html                                                                                                                                                                                           37532\n",
       "/payment.html                                                                                                                                                                                            35810\n",
       "/google+redesign/accessories/fun                                                                                                                                                                         32369\n",
       "/google+redesign/accessories                                                                                                                                                                             30358\n",
       "/google+redesign/shop+by+brand/youtube/quickview                                                                                                                                                         25944\n",
       "/google+redesign/drinkware/mugs+and+cups                                                                                                                                                                 25938\n",
       "/google+redesign/electronics/audio                                                                                                                                                                       25814\n",
       "/ordercompleted.html                                                                                                                                                                                     25291\n",
       "/google+redesign/apparel/headgear                                                                                                                                                                        24957\n",
       "/google+redesign/bags/backpacks/home                                                                                                                                                                     24147\n",
       "/google+redesign/bags/water+bottles+and+tumblers                                                                                                                                                         24099\n",
       "/google+redesign/shop+by+brand/android                                                                                                                                                                   22879\n",
       "/google+redesign/apparel/men++s/men++s+t+shirts/quickview                                                                                                                                                22293\n",
       "/google+redesign/office/notebooks++journals                                                                                                                                                              21771\n",
       "/google+redesign/apparel/women+s/women+s+t+shirts                                                                                                                                                        20501\n",
       "                                                                                                                                                                                                         ...  \n",
       "/google+redesign/gift+cards/gift+card+50.00.axd                                                                                                                                                              1\n",
       "/google+redesign/electronicshttps://shop.googlemerchandisestore.com/google+redesign/electronics                                                                                                              1\n",
       "/google+redesign/shop+by+brand/youtube fleiss                                                                                                                                                                1\n",
       "/google+redesign/apparel/women+s+t+shirts/android+womens+s+s+triblend+badge+tee+xl+gre.axd                                                                                                                   1\n",
       "/google+redesign/shop+by+brand/google+redesign/drinkware/google+redesign/apparel/kids/google+redesign/nest/nest-usa                                                                                          1\n",
       "/google+redesign/shop+by+brand/google+redesign/accessories/stickers/store-policies/shipping-information/google+redesign/javascript:void(0)                                                                   1\n",
       "/google+redesign/accessories/google+redesign/electronics/google+redesign/apparel/google+redesign/google+redesign/apparel/womens/google+redesign/apparel/womens/google+redesign/shop+by+brand/youtube         1\n",
       "/google+redesign/apparel/kids/google+redesign/apparel/kids/kids+infant                                                                                                                                       1\n",
       "/google+redesign/electronics/audio/google+redesign/apparel/kids/google+redesign/apparel/kids/myaccount.html?mode=billingaddress                                                                              1\n",
       "/store-policies/return-policy/google+redesign/apparel/kids/google+redesign/bags/store-policies/shipping-information/google+redesign/electronics/google+redesign/apparel/womens+performance+wear              1\n",
       "/google+redesign/accessories/stickers/google+redesign/apparel/google+redesign/bags/backpacks/google+redesign/accessories/google+redesign/electronics/electronics+accessories                                 1\n",
       "/store-policies/return-policy/google+redesign/bags/google+redesign/accessories/store-policies/return-policy/home                                                                                             1\n",
       "/google+redesign/apparel/mens/google+redesign/drinkware/google+redesign/apparel/mens/mens+performance+wear                                                                                                   1\n",
       "/google+redesign/lifestyle/fun.adx                                                                                                                                                                           1\n",
       "/google+redesign/apparel/mens/google+redesign/google+redesign/office/notebooks++journals                                                                                                                     1\n",
       "/google+redesign/wearables/headwear/ogio+endurance+cap.axd/quickview                                                                                                                                         1\n",
       "/google+redesign/apparel/women+s+t+shirts/youtube+womens+s+s+crew+tee+sm+charcoal.axd                                                                                                                        1\n",
       "/google+redesign/electronics/audio/google+redesign/electronics/google+redesign/apparel/google+redesign/accessories                                                                                           1\n",
       "/google+redesign/apparel/google+redesign/drinkware/google+redesign/shop+by+brand/store-policies/return-policy/store-policies/terms-of-use/home                                                               1\n",
       "/google+redesign/apparel/mens+tshirts/android+mens+vintage+henley+sm.axd                                                                                                                                     1\n",
       "/google+redesign/bags/google+redesign/apparel/womens/google+redesign/shop+by+brand/google+redesign/bags/store-policies/return-policy/google+redesign/accessories/google+redesign/electronics                 1\n",
       "/google+redesign/apparel/kids/kids+toddler/youtube+toddler+short+sleeve+tee+red+3t.axd                                                                                                                       1\n",
       "/google+redesign/electronics/audio/google+redesign/apparel/kids/store-policies/return-policy/google+redesign/bags/google+redesign/gift+cards                                                                 1\n",
       "/google+redesign/electronics/audio/google+redesign/apparel/kids/google+redesign/office/notebooks++journals                                                                                                   1\n",
       "/store-policies/return-policy/google+redesign/office/google+redesign/office                                                                                                                                  1\n",
       "/google+redesign/new+2015+logo/google+recycled+g+handle+tote+bag.axd/quickview                                                                                                                               1\n",
       "/google+redesign/accessories/google+redesign/drinkware/google+redesign/electronics/audio                                                                                                                     1\n",
       "/google+redesign/bags/google+redesign/google+redesign/accessories/housewares                                                                                                                                 1\n",
       "/google+redesign/brands/android/android+piggyback+power+pack.axd                                                                                                                                             1\n",
       "/google+redesign/bags/backpacks/google+redesign/bags/backpacks/home                                                                                                                                          1\n",
       "Name: pagePath, Length: 2571, dtype: int64"
      ]
     },
     "execution_count": 13,
     "metadata": {},
     "output_type": "execute_result"
    }
   ],
   "source": [
    "df1['pagePath'].value_counts()"
   ]
  },
  {
   "cell_type": "markdown",
   "metadata": {},
   "source": [
    "# 1.  Network Analysis for all visitors with all page paths"
   ]
  },
  {
   "cell_type": "markdown",
   "metadata": {},
   "source": [
    "I will be using the `networkx` package in python to do modeling using network analysis. "
   ]
  },
  {
   "cell_type": "code",
   "execution_count": 41,
   "metadata": {},
   "outputs": [],
   "source": [
    "from itertools import combinations\n",
    "import networkx as nx"
   ]
  },
  {
   "cell_type": "code",
   "execution_count": 42,
   "metadata": {
    "scrolled": true
   },
   "outputs": [
    {
     "data": {
      "text/plain": [
       "Index(['fullVisitorId', 'visitId', 'visitNumber', 'transactions', 'hitNumber',\n",
       "       'pagePath'],\n",
       "      dtype='object')"
      ]
     },
     "execution_count": 42,
     "metadata": {},
     "output_type": "execute_result"
    }
   ],
   "source": [
    "df1.columns"
   ]
  },
  {
   "cell_type": "code",
   "execution_count": 43,
   "metadata": {},
   "outputs": [],
   "source": [
    "### collapse to a series of lists\n",
    "pagedata_all = df1.groupby('fullVisitorId').apply(lambda df1: list(df1['pagePath']))\n",
    "\n",
    "### we can ignore 1 length pages because they have no connections\n",
    "pagedata_all = pagedata_all[pagedata_all.apply(lambda df1:len(df1) > 1)]"
   ]
  },
  {
   "cell_type": "code",
   "execution_count": 44,
   "metadata": {},
   "outputs": [
    {
     "data": {
      "text/plain": [
       "['/home',\n",
       " '/home',\n",
       " '/google+redesign/fruit-games',\n",
       " '/home',\n",
       " '/google+redesign/office',\n",
       " '/google+redesign/office/quickview',\n",
       " '/home',\n",
       " '/google+redesign/apparel/men++s/men++s+t+shirts']"
      ]
     },
     "execution_count": 44,
     "metadata": {},
     "output_type": "execute_result"
    }
   ],
   "source": [
    "pagedata_all[0]"
   ]
  },
  {
   "cell_type": "markdown",
   "metadata": {},
   "source": [
    "## Directional Network"
   ]
  },
  {
   "cell_type": "code",
   "execution_count": 45,
   "metadata": {},
   "outputs": [],
   "source": [
    "#sequenced graph\n",
    "\n",
    "mydict={}\n",
    "\n",
    "# session = pagedata[0]\n",
    "\n",
    "for session in pagedata_all:\n",
    "    for i in range(0,len(session)-1):\n",
    "        mytuple= (session[i], session[i+1])\n",
    "        mydict.setdefault((mytuple),[]).append(1)\n",
    "    \n",
    "    \n",
    "#make a graph object\n",
    "V = nx.DiGraph()\n",
    "#add the edges, if weight is greater than 20 - ie 20 pages\n",
    "_ = [V.add_edge(key[0], key[1], weight = len(value)) for key,value in mydict.items()];    "
   ]
  },
  {
   "cell_type": "code",
   "execution_count": 46,
   "metadata": {},
   "outputs": [
    {
     "data": {
      "text/plain": [
       "57787"
      ]
     },
     "execution_count": 46,
     "metadata": {},
     "output_type": "execute_result"
    }
   ],
   "source": [
    "len(mydict)"
   ]
  },
  {
   "cell_type": "code",
   "execution_count": 47,
   "metadata": {},
   "outputs": [],
   "source": [
    "#instantiate a graph object\n",
    "V = nx.Graph()"
   ]
  },
  {
   "cell_type": "code",
   "execution_count": 50,
   "metadata": {},
   "outputs": [],
   "source": [
    "# Edge is the connection between two nodes (webpages)\n",
    "#Nodes: A node is a unit in the network -website page"
   ]
  },
  {
   "cell_type": "markdown",
   "metadata": {},
   "source": [
    "#### Connectedness\n",
    "\n",
    "Check if network is completely connected or if there are subgraphs."
   ]
  },
  {
   "cell_type": "code",
   "execution_count": 51,
   "metadata": {},
   "outputs": [
    {
     "data": {
      "text/plain": [
       "False"
      ]
     },
     "execution_count": 51,
     "metadata": {},
     "output_type": "execute_result"
    }
   ],
   "source": [
    "nx.is_connected(V)"
   ]
  },
  {
   "cell_type": "code",
   "execution_count": 52,
   "metadata": {},
   "outputs": [],
   "source": [
    "subgraphs = list(nx.connected_component_subgraphs(V))"
   ]
  },
  {
   "cell_type": "code",
   "execution_count": 53,
   "metadata": {},
   "outputs": [
    {
     "data": {
      "text/plain": [
       "4"
      ]
     },
     "execution_count": 53,
     "metadata": {},
     "output_type": "execute_result"
    }
   ],
   "source": [
    "#there are 4 connected subgraphs\n",
    "len(subgraphs)"
   ]
  },
  {
   "cell_type": "code",
   "execution_count": 54,
   "metadata": {},
   "outputs": [
    {
     "data": {
      "text/plain": [
       "0    (/home, /google+redesign/fruit-games, /google+...\n",
       "1           (/google+redesign/shop+by+brand/undefined)\n",
       "2      (/google+redesign/bags/salutlesmasterdico/home)\n",
       "3             (/google+redesign/electronics/undefined)\n",
       "dtype: object"
      ]
     },
     "execution_count": 54,
     "metadata": {},
     "output_type": "execute_result"
    }
   ],
   "source": [
    "pd.Series(subgraphs)"
   ]
  },
  {
   "cell_type": "markdown",
   "metadata": {},
   "source": [
    "### Cliques\n",
    "\n",
    "Cliques are groups of linked nodes. In a clique, each individual node is connected to every other node. It maps nicely to our idea of cliques: a group of friends, that are all friends with each other. For each node, there is (at least) one maximally sized clique."
   ]
  },
  {
   "cell_type": "code",
   "execution_count": 55,
   "metadata": {},
   "outputs": [
    {
     "data": {
      "text/plain": [
       "<generator object find_cliques at 0x0000025D03B208B8>"
      ]
     },
     "execution_count": 55,
     "metadata": {},
     "output_type": "execute_result"
    }
   ],
   "source": [
    "cliques = nx.find_cliques(V)\n",
    "cliques"
   ]
  },
  {
   "cell_type": "code",
   "execution_count": 56,
   "metadata": {},
   "outputs": [
    {
     "name": "stdout",
     "output_type": "stream",
     "text": [
      "13\n",
      "14\n",
      "15\n",
      "15\n",
      "14\n"
     ]
    }
   ],
   "source": [
    "# Start with nothing\n",
    "cliques_gt_5 = list()\n",
    "\n",
    "# Iterating over each clique, stop when we have 5 cliques\n",
    "while (len(cliques_gt_5) < 5):\n",
    "    # If the clique is greater than size 5, add it to my list\n",
    "    my_clique = next(cliques)\n",
    "    if len(my_clique) >= 10:\n",
    "        cliques_gt_5.append(my_clique)\n",
    "        print(len(my_clique))\n",
    "\n"
   ]
  },
  {
   "cell_type": "code",
   "execution_count": 57,
   "metadata": {},
   "outputs": [
    {
     "data": {
      "text/plain": [
       "[['/google+redesign/apparel/men+s+goog',\n",
       "  '/google+redesign/electronics/quickview',\n",
       "  '/home',\n",
       "  '/google+redesign/apparel/men++s',\n",
       "  '/google+redesign/electronics',\n",
       "  '/google+redesign/apparel/men++s/quickview',\n",
       "  '/google+redesign/apparel/men++s/men++s+outerwear',\n",
       "  '/google+redesign/drinkware',\n",
       "  '/store.html',\n",
       "  '/store.html/quickview',\n",
       "  '/google+redesign/apparel/women+s/women+s+outerwear/quickview',\n",
       "  '/google+redesign/apparel/women+s/women+s+outerwear',\n",
       "  '/google+redesign/apparel/men++s/men++s+outerwear/quickview'],\n",
       " ['/google+redesign/limited+supply/quickview',\n",
       "  '/google+redesign/kids',\n",
       "  '/google+redesign/lifestyle/fun',\n",
       "  '/google+redesign/office/quickview',\n",
       "  '/google+redesign/electronics/accessories',\n",
       "  '/google+redesign/wearables',\n",
       "  '/google+redesign/brands',\n",
       "  '/google+redesign/office',\n",
       "  '/google+redesign/gift+cards',\n",
       "  '/google+redesign/bags/backpacks/quickview',\n",
       "  '/home',\n",
       "  '/google+redesign/limited+supply',\n",
       "  '/google+redesign/bags',\n",
       "  '/google+redesign/lifestyle'],\n",
       " ['/google+redesign/limited+supply/quickview',\n",
       "  '/google+redesign/kids',\n",
       "  '/google+redesign/lifestyle/fun',\n",
       "  '/google+redesign/office/quickview',\n",
       "  '/google+redesign/electronics/accessories',\n",
       "  '/google+redesign/wearables',\n",
       "  '/google+redesign/brands',\n",
       "  '/google+redesign/office',\n",
       "  '/google+redesign/gift+cards',\n",
       "  '/google+redesign/bags/backpacks/quickview',\n",
       "  '/home',\n",
       "  '/google+redesign/limited+supply',\n",
       "  '/google+redesign/brands/quickview',\n",
       "  '/google+redesign/electronics/accessories/quickview',\n",
       "  '/google+redesign/kids/quickview'],\n",
       " ['/google+redesign/limited+supply/quickview',\n",
       "  '/google+redesign/kids',\n",
       "  '/google+redesign/lifestyle/fun',\n",
       "  '/google+redesign/office/quickview',\n",
       "  '/google+redesign/electronics/accessories',\n",
       "  '/google+redesign/wearables',\n",
       "  '/google+redesign/brands',\n",
       "  '/google+redesign/office',\n",
       "  '/google+redesign/gift+cards',\n",
       "  '/google+redesign/bags/backpacks/quickview',\n",
       "  '/home',\n",
       "  '/google+redesign/lifestyle/fun/quickview',\n",
       "  '/google+redesign/electronics/accessories/quickview',\n",
       "  '/google+redesign/brands/quickview',\n",
       "  '/google+redesign/kids/quickview'],\n",
       " ['/google+redesign/limited+supply/quickview',\n",
       "  '/google+redesign/kids',\n",
       "  '/google+redesign/lifestyle/fun',\n",
       "  '/google+redesign/office/quickview',\n",
       "  '/google+redesign/electronics/accessories',\n",
       "  '/google+redesign/wearables',\n",
       "  '/google+redesign/brands',\n",
       "  '/google+redesign/office',\n",
       "  '/google+redesign/gift+cards',\n",
       "  '/google+redesign/wearables/quickview',\n",
       "  '/google+redesign/limited+supply',\n",
       "  '/google+redesign/electronics/accessories/quickview',\n",
       "  '/google+redesign/brands/quickview',\n",
       "  '/google+redesign/kids/quickview']]"
      ]
     },
     "execution_count": 57,
     "metadata": {},
     "output_type": "execute_result"
    }
   ],
   "source": [
    "cliques_gt_5"
   ]
  },
  {
   "cell_type": "code",
   "execution_count": 76,
   "metadata": {},
   "outputs": [],
   "source": [
    "# Writing data out to Gephi format (.gexf)\n",
    "nx.write_gexf(V, 'GoogleMerch_graph.gexf')"
   ]
  },
  {
   "cell_type": "markdown",
   "metadata": {},
   "source": [
    "# 2.  Take only the positive class scenarios (purchase made)"
   ]
  },
  {
   "cell_type": "code",
   "execution_count": 12,
   "metadata": {},
   "outputs": [],
   "source": [
    "# Want class 0 or class 1 - change all points that are not 0 to 1. \n",
    "df1['transactions'] = np.where(df1['transactions']==1.0, 1.0, 0)"
   ]
  },
  {
   "cell_type": "code",
   "execution_count": 13,
   "metadata": {},
   "outputs": [
    {
     "data": {
      "text/plain": [
       "0.0    3173137\n",
       "1.0     305329\n",
       "Name: transactions, dtype: int64"
      ]
     },
     "execution_count": 13,
     "metadata": {},
     "output_type": "execute_result"
    }
   ],
   "source": [
    "#check transaction is 0 or 1\n",
    "df1['transactions'].value_counts()"
   ]
  },
  {
   "cell_type": "code",
   "execution_count": 16,
   "metadata": {},
   "outputs": [],
   "source": [
    "df2 = df1.copy()"
   ]
  },
  {
   "cell_type": "code",
   "execution_count": 17,
   "metadata": {},
   "outputs": [
    {
     "data": {
      "text/html": [
       "<div>\n",
       "<style scoped>\n",
       "    .dataframe tbody tr th:only-of-type {\n",
       "        vertical-align: middle;\n",
       "    }\n",
       "\n",
       "    .dataframe tbody tr th {\n",
       "        vertical-align: top;\n",
       "    }\n",
       "\n",
       "    .dataframe thead th {\n",
       "        text-align: right;\n",
       "    }\n",
       "</style>\n",
       "<table border=\"1\" class=\"dataframe\">\n",
       "  <thead>\n",
       "    <tr style=\"text-align: right;\">\n",
       "      <th></th>\n",
       "      <th>fullVisitorId</th>\n",
       "      <th>visitId</th>\n",
       "      <th>visitNumber</th>\n",
       "      <th>transactions</th>\n",
       "      <th>hitNumber</th>\n",
       "      <th>pagePath</th>\n",
       "    </tr>\n",
       "  </thead>\n",
       "  <tbody>\n",
       "    <tr>\n",
       "      <th>0</th>\n",
       "      <td>2981907656334968431</td>\n",
       "      <td>1495087388</td>\n",
       "      <td>1</td>\n",
       "      <td>0.0</td>\n",
       "      <td>8</td>\n",
       "      <td>/google+redesign/shop+by+brand</td>\n",
       "    </tr>\n",
       "    <tr>\n",
       "      <th>1</th>\n",
       "      <td>2981907656334968431</td>\n",
       "      <td>1495087388</td>\n",
       "      <td>1</td>\n",
       "      <td>0.0</td>\n",
       "      <td>10</td>\n",
       "      <td>/google+redesign/shop+by+brand/quickview</td>\n",
       "    </tr>\n",
       "    <tr>\n",
       "      <th>2</th>\n",
       "      <td>2981907656334968431</td>\n",
       "      <td>1495087388</td>\n",
       "      <td>1</td>\n",
       "      <td>0.0</td>\n",
       "      <td>12</td>\n",
       "      <td>/google+redesign/bags/backpacks/waterproof+bac...</td>\n",
       "    </tr>\n",
       "    <tr>\n",
       "      <th>3</th>\n",
       "      <td>2981907656334968431</td>\n",
       "      <td>1495087388</td>\n",
       "      <td>1</td>\n",
       "      <td>0.0</td>\n",
       "      <td>13</td>\n",
       "      <td>/google+redesign/apparel</td>\n",
       "    </tr>\n",
       "    <tr>\n",
       "      <th>4</th>\n",
       "      <td>2981907656334968431</td>\n",
       "      <td>1495087388</td>\n",
       "      <td>1</td>\n",
       "      <td>0.0</td>\n",
       "      <td>14</td>\n",
       "      <td>/signin.html</td>\n",
       "    </tr>\n",
       "  </tbody>\n",
       "</table>\n",
       "</div>"
      ],
      "text/plain": [
       "         fullVisitorId     visitId  visitNumber  transactions  hitNumber  \\\n",
       "0  2981907656334968431  1495087388            1           0.0          8   \n",
       "1  2981907656334968431  1495087388            1           0.0         10   \n",
       "2  2981907656334968431  1495087388            1           0.0         12   \n",
       "3  2981907656334968431  1495087388            1           0.0         13   \n",
       "4  2981907656334968431  1495087388            1           0.0         14   \n",
       "\n",
       "                                            pagePath  \n",
       "0                     /google+redesign/shop+by+brand  \n",
       "1           /google+redesign/shop+by+brand/quickview  \n",
       "2  /google+redesign/bags/backpacks/waterproof+bac...  \n",
       "3                           /google+redesign/apparel  \n",
       "4                                       /signin.html  "
      ]
     },
     "execution_count": 17,
     "metadata": {},
     "output_type": "execute_result"
    }
   ],
   "source": [
    "df2.head()"
   ]
  },
  {
   "cell_type": "code",
   "execution_count": 18,
   "metadata": {},
   "outputs": [],
   "source": [
    "#take only the rows that have a transaction in them\n",
    "df_transactions = df2.loc[df1['transactions'] == 1.0]"
   ]
  },
  {
   "cell_type": "code",
   "execution_count": 19,
   "metadata": {
    "scrolled": true
   },
   "outputs": [
    {
     "data": {
      "text/html": [
       "<div>\n",
       "<style scoped>\n",
       "    .dataframe tbody tr th:only-of-type {\n",
       "        vertical-align: middle;\n",
       "    }\n",
       "\n",
       "    .dataframe tbody tr th {\n",
       "        vertical-align: top;\n",
       "    }\n",
       "\n",
       "    .dataframe thead th {\n",
       "        text-align: right;\n",
       "    }\n",
       "</style>\n",
       "<table border=\"1\" class=\"dataframe\">\n",
       "  <thead>\n",
       "    <tr style=\"text-align: right;\">\n",
       "      <th></th>\n",
       "      <th>fullVisitorId</th>\n",
       "      <th>visitId</th>\n",
       "      <th>visitNumber</th>\n",
       "      <th>transactions</th>\n",
       "      <th>hitNumber</th>\n",
       "      <th>pagePath</th>\n",
       "    </tr>\n",
       "  </thead>\n",
       "  <tbody>\n",
       "    <tr>\n",
       "      <th>447</th>\n",
       "      <td>2983171108603027589</td>\n",
       "      <td>1481857235</td>\n",
       "      <td>1</td>\n",
       "      <td>1.0</td>\n",
       "      <td>1</td>\n",
       "      <td>/home-2</td>\n",
       "    </tr>\n",
       "    <tr>\n",
       "      <th>448</th>\n",
       "      <td>2983171108603027589</td>\n",
       "      <td>1481857235</td>\n",
       "      <td>1</td>\n",
       "      <td>1.0</td>\n",
       "      <td>2</td>\n",
       "      <td>/google+redesign/apparel/men++s/men++s+outerwear</td>\n",
       "    </tr>\n",
       "    <tr>\n",
       "      <th>449</th>\n",
       "      <td>2983171108603027589</td>\n",
       "      <td>1481857235</td>\n",
       "      <td>1</td>\n",
       "      <td>1.0</td>\n",
       "      <td>3</td>\n",
       "      <td>/google+redesign/apparel/men++s/men++s+outerwe...</td>\n",
       "    </tr>\n",
       "    <tr>\n",
       "      <th>450</th>\n",
       "      <td>2983171108603027589</td>\n",
       "      <td>1481857235</td>\n",
       "      <td>1</td>\n",
       "      <td>1.0</td>\n",
       "      <td>5</td>\n",
       "      <td>/google+redesign/drinkware/mugs+and+cups</td>\n",
       "    </tr>\n",
       "    <tr>\n",
       "      <th>451</th>\n",
       "      <td>2983171108603027589</td>\n",
       "      <td>1481857235</td>\n",
       "      <td>1</td>\n",
       "      <td>1.0</td>\n",
       "      <td>6</td>\n",
       "      <td>/google+redesign/apparel/men++s/men++s+outerwear</td>\n",
       "    </tr>\n",
       "  </tbody>\n",
       "</table>\n",
       "</div>"
      ],
      "text/plain": [
       "           fullVisitorId     visitId  visitNumber  transactions  hitNumber  \\\n",
       "447  2983171108603027589  1481857235            1           1.0          1   \n",
       "448  2983171108603027589  1481857235            1           1.0          2   \n",
       "449  2983171108603027589  1481857235            1           1.0          3   \n",
       "450  2983171108603027589  1481857235            1           1.0          5   \n",
       "451  2983171108603027589  1481857235            1           1.0          6   \n",
       "\n",
       "                                              pagePath  \n",
       "447                                            /home-2  \n",
       "448   /google+redesign/apparel/men++s/men++s+outerwear  \n",
       "449  /google+redesign/apparel/men++s/men++s+outerwe...  \n",
       "450           /google+redesign/drinkware/mugs+and+cups  \n",
       "451   /google+redesign/apparel/men++s/men++s+outerwear  "
      ]
     },
     "execution_count": 19,
     "metadata": {},
     "output_type": "execute_result"
    }
   ],
   "source": [
    "df_transactions.head()"
   ]
  },
  {
   "cell_type": "code",
   "execution_count": 20,
   "metadata": {},
   "outputs": [
    {
     "data": {
      "text/plain": [
       "(305329, 6)"
      ]
     },
     "execution_count": 20,
     "metadata": {},
     "output_type": "execute_result"
    }
   ],
   "source": [
    "df_transactions.shape"
   ]
  },
  {
   "cell_type": "code",
   "execution_count": 21,
   "metadata": {},
   "outputs": [],
   "source": [
    "### collapse to a series of lists\n",
    "pagedata_transaction = df_transactions.groupby('fullVisitorId').apply(lambda df_transactions: list(df_transactions['pagePath']))\n",
    "\n",
    "### we can ignore 1 length pages because they have no connections\n",
    "pagedata_transaction = pagedata_transaction[pagedata_transaction.apply(lambda df_transactions:len(df_transactions) > 1)]"
   ]
  },
  {
   "cell_type": "code",
   "execution_count": 25,
   "metadata": {
    "scrolled": true
   },
   "outputs": [
    {
     "data": {
      "text/plain": [
       "fullVisitorId\n",
       "213131142648941    [/google+redesign/apparel/mens+outerwear/blm+s...\n",
       "435324061339869    [/home, /google+redesign/apparel/men++s/men++s...\n",
       "dtype: object"
      ]
     },
     "execution_count": 25,
     "metadata": {},
     "output_type": "execute_result"
    }
   ],
   "source": [
    "#view a couple rows of new table\n",
    "pagedata_transaction[0:2]"
   ]
  },
  {
   "cell_type": "code",
   "execution_count": 40,
   "metadata": {},
   "outputs": [],
   "source": [
    "#sequenced graph\n",
    "\n",
    "mydict_transaction={}\n",
    "\n",
    "# session = pagedata[0]\n",
    "\n",
    "for session in pagedata_transaction:\n",
    "    for i in range(0,len(session)-1):\n",
    "        mytuple= (session[i], session[i+1])\n",
    "        mydict_transaction.setdefault((mytuple),[]).append(1)\n",
    "    \n",
    "    \n",
    "#make a graph object\n",
    "T = nx.DiGraph()\n",
    "#add the edges, if weight is greater than 20 - ie 20 pages\n",
    "_ = [T.add_edge(key[0], key[1], weight = len(value)) for key,value in mydict_transaction.items()];  "
   ]
  },
  {
   "cell_type": "code",
   "execution_count": 35,
   "metadata": {},
   "outputs": [
    {
     "data": {
      "text/plain": [
       "15415"
      ]
     },
     "execution_count": 35,
     "metadata": {},
     "output_type": "execute_result"
    }
   ],
   "source": [
    "len(mydict_transaction)"
   ]
  },
  {
   "cell_type": "code",
   "execution_count": 50,
   "metadata": {},
   "outputs": [],
   "source": [
    "# Edge is the connection between two nodes (webpages)\n",
    "#Nodes: A node is a unit in the network -website page"
   ]
  },
  {
   "cell_type": "code",
   "execution_count": 33,
   "metadata": {},
   "outputs": [
    {
     "name": "stdout",
     "output_type": "stream",
     "text": [
      "Graph has 957 nodes, and 15415 edges.\n"
     ]
    }
   ],
   "source": [
    "n_nodes_T = len(T.nodes)\n",
    "n_edges_T = len(T.edges)\n",
    "print(f'Graph has {n_nodes_T} nodes, and {n_edges_T} edges.')"
   ]
  },
  {
   "cell_type": "code",
   "execution_count": 36,
   "metadata": {},
   "outputs": [],
   "source": [
    "# Writing data out to Gephi format (.gexf)\n",
    "nx.write_gexf(T, 'GoogleMerch_transactions_graph_final.gexf')"
   ]
  },
  {
   "cell_type": "markdown",
   "metadata": {},
   "source": [
    "# 3.  Network Analysis Using Content Grouping\n",
    "\n",
    "This is a network analysis for all pages based (for all visitors) on content grouping. However, when I pulled it into a graph, it didn't tell a story as good as the individual pages. \n",
    "\n",
    "I did not end up using this because it was undirectional. However, the content grouping may be very useful in other future analysis."
   ]
  },
  {
   "cell_type": "markdown",
   "metadata": {},
   "source": [
    "### Content Grouping"
   ]
  },
  {
   "cell_type": "code",
   "execution_count": 58,
   "metadata": {},
   "outputs": [
    {
     "data": {
      "text/plain": [
       "2571"
      ]
     },
     "execution_count": 58,
     "metadata": {},
     "output_type": "execute_result"
    }
   ],
   "source": [
    "# there are 2571 unique page paths\n",
    "len(df1['pagePath'].unique())"
   ]
  },
  {
   "cell_type": "code",
   "execution_count": 59,
   "metadata": {},
   "outputs": [],
   "source": [
    "#getting true false to see if column contains that sub string. \n",
    "#Bucket pages together - I am making assumptions about what all of these mean\n",
    "\n",
    "df1.loc[df1['pagePath'].str.contains('/home'),\n",
    "       'pagePath'] = 'Home Page'\n",
    "\n",
    "df1.loc[df1['pagePath'].str.contains('/quickview'),\n",
    "       'pagePath'] = 'Quick View'\n",
    "\n",
    "df1.loc[df1['pagePath'].str.contains('/myaccount'),\n",
    "       'pagePath'] = 'Account Settings'\n",
    "\n",
    "df1.loc[df1['pagePath'].str.contains('/store-policies/shipping-information'),\n",
    "       'pagePath'] = 'Shipping Info'\n",
    "\n",
    "df1.loc[df1['pagePath'].str.contains('questions|faqs'),\n",
    "       'pagePath'] = 'Frequently Asked Questions'\n",
    "\n",
    "df1.loc[df1['pagePath'].str.contains('/register'),\n",
    "       'pagePath'] = 'Register'\n",
    "\n",
    "df1.loc[df1['pagePath'].str.contains('/signin.html'),\n",
    "       'pagePath'] = 'Sign in'\n",
    "\n",
    "df1.loc[df1['pagePath'].str.contains('return-policy'),\n",
    "       'pagePath'] = 'Return Policy'\n",
    "\n",
    "df1.loc[df1['pagePath'].str.contains('/yourinfo.html'),\n",
    "       'pagePath'] = 'Your Info'\n",
    "\n",
    "df1.loc[df1['pagePath'].str.contains('/payment.html'),\n",
    "       'pagePath'] = 'Payment'\n",
    "\n",
    "df1.loc[df1['pagePath'].str.contains('/revieworder.html'),\n",
    "       'pagePath'] = 'Review Order'\n",
    "\n",
    "df1.loc[df1['pagePath'].str.contains('/basket.html'),\n",
    "       'pagePath'] = 'Basket'\n",
    "\n",
    "df1.loc[df1['pagePath'].str.contains('cart'),\n",
    "       'pagePath'] = 'Add to Cart'\n",
    "\n",
    "df1.loc[df1['pagePath'].str.contains('/ordercompleted'),\n",
    "       'pagePath'] = 'Order Completed'\n",
    "\n",
    "df1.loc[df1['pagePath'].str.contains('search'),\n",
    "       'pagePath'] = 'Search'\n",
    "\n",
    "df1.loc[df1['pagePath'].str.contains(\"brand\"),\n",
    "       'pagePath'] = 'Select Brand'\n",
    "\n",
    "df1.loc[df1['pagePath'].str.contains('/guestregister.html'),\n",
    "       'pagePath'] = 'Guest Register'\n",
    "\n",
    "df1.loc[df1['pagePath'].str.contains('/wishlist.html|/addtowishlist'),\n",
    "       'pagePath'] = 'Wish List'\n",
    "\n",
    "df1.loc[df1['pagePath'].str.contains('/resetpassword'),\n",
    "       'pagePath'] = 'Password reset'\n",
    "\n",
    "df1.loc[df1['pagePath'].str.contains('logout'),\n",
    "       'pagePath'] = 'Logout'\n",
    "\n",
    "df1.loc[df1['pagePath'].str.contains('/store-policies/terms-of-use'),\n",
    "       'pagePath'] = 'Terms of Use'\n",
    "\n",
    "df1.loc[df1['pagePath'].str.contains('/store.html'),\n",
    "       'pagePath'] = 'Store'\n",
    "\n",
    "df1.loc[df1['pagePath'].str.contains('apparel|bag|drinkware|accessories|electronics|lifestyle|games|wearables|gift|nest|kids|eco|new|fun|top'),\n",
    "       'pagePath'] = 'General Item Info'\n",
    "\n",
    "df1.loc[df1['pagePath'].str.contains('/storeitem.html|/limited|spring|madeinusa|specials|office'),\n",
    "       'pagePath'] = 'General Item Info'\n",
    "\n",
    "df1.loc[df1['pagePath'].str.contains('/shop.axd'),\n",
    "       'pagePath'] = 'Other'\n"
   ]
  },
  {
   "cell_type": "code",
   "execution_count": 60,
   "metadata": {},
   "outputs": [
    {
     "data": {
      "text/plain": [
       "24"
      ]
     },
     "execution_count": 60,
     "metadata": {},
     "output_type": "execute_result"
    }
   ],
   "source": [
    "#Check how many unique page paths I have\n",
    "len(df1['pagePath'].unique())"
   ]
  },
  {
   "cell_type": "code",
   "execution_count": 61,
   "metadata": {},
   "outputs": [
    {
     "data": {
      "text/plain": [
       "Counter({'Select Brand': 227263,\n",
       "         'Quick View': 359873,\n",
       "         'General Item Info': 1170942,\n",
       "         'Sign in': 101299,\n",
       "         'Register': 24954,\n",
       "         'Store': 93555,\n",
       "         'Home Page': 1047241,\n",
       "         'Basket': 209385,\n",
       "         'Your Info': 37532,\n",
       "         'Search': 62422,\n",
       "         'Account Settings': 51040,\n",
       "         'Frequently Asked Questions': 5161,\n",
       "         'Payment': 35810,\n",
       "         'Review Order': 18929,\n",
       "         'Order Completed': 25291,\n",
       "         'Shipping Info': 2957,\n",
       "         'Return Policy': 1327,\n",
       "         'Guest Register': 776,\n",
       "         'Wish List': 1447,\n",
       "         'Terms of Use': 902,\n",
       "         'Other': 76,\n",
       "         'Add to Cart': 276,\n",
       "         'Password reset': 7,\n",
       "         'Logout': 1})"
      ]
     },
     "execution_count": 61,
     "metadata": {},
     "output_type": "execute_result"
    }
   ],
   "source": [
    "#Check values for each content grouping\n",
    "import collections\n",
    "collections.Counter(df1['pagePath'])"
   ]
  },
  {
   "cell_type": "markdown",
   "metadata": {},
   "source": [
    "### Network Analysis with Content Grouping"
   ]
  },
  {
   "cell_type": "markdown",
   "metadata": {},
   "source": [
    "I will be using the `networkx` package in python to do modeling using network analysis. "
   ]
  },
  {
   "cell_type": "code",
   "execution_count": 25,
   "metadata": {},
   "outputs": [],
   "source": [
    "from itertools import combinations\n",
    "import networkx as nx"
   ]
  },
  {
   "cell_type": "code",
   "execution_count": 62,
   "metadata": {
    "scrolled": true
   },
   "outputs": [
    {
     "data": {
      "text/plain": [
       "Index(['fullVisitorId', 'visitId', 'visitNumber', 'transactions', 'hitNumber',\n",
       "       'pagePath'],\n",
       "      dtype='object')"
      ]
     },
     "execution_count": 62,
     "metadata": {},
     "output_type": "execute_result"
    }
   ],
   "source": [
    "df1.columns"
   ]
  },
  {
   "cell_type": "code",
   "execution_count": 63,
   "metadata": {},
   "outputs": [],
   "source": [
    "### collapse to a series of lists\n",
    "pagedata = df1.groupby('fullVisitorId').apply(lambda df1: list(df1['pagePath']))\n",
    "\n",
    "### we can ignore 1 length pages because they have no connections\n",
    "pagedata = pagedata[pagedata.apply(lambda df1:len(df1) > 1)]"
   ]
  },
  {
   "cell_type": "code",
   "execution_count": 64,
   "metadata": {},
   "outputs": [
    {
     "data": {
      "text/plain": [
       "fullVisitorId\n",
       "5103959234087     [Home Page, Home Page, General Item Info, Home...\n",
       "10278554503158    [Home Page, General Item Info, General Item In...\n",
       "20424342248747    [Home Page, Home Page, Select Brand, General I...\n",
       "dtype: object"
      ]
     },
     "execution_count": 64,
     "metadata": {},
     "output_type": "execute_result"
    }
   ],
   "source": [
    "#Check how some of the page data looks\n",
    "pagedata[0:3]"
   ]
  },
  {
   "cell_type": "code",
   "execution_count": 65,
   "metadata": {},
   "outputs": [],
   "source": [
    "#holding dict\n",
    "mydict = {}\n",
    "\n",
    "for i in range(len(pagedata)):\n",
    "    #2 combinations of baskets\n",
    "    for j,k in combinations(pagedata[i],2):\n",
    "        #setdefault, and append a 1 for each time it is found\n",
    "        mydict.setdefault((j,k),[]).append(1)\n",
    "\n",
    "#make a graph\n",
    "G = nx.Graph()\n",
    "#add the edges, if weight is greater than 20 - ie 20 transactions\n",
    "_ = [G.add_edge(i[0], i[1], weight = len(j)) for i,j in mydict.items() if len(j) > 20];\n"
   ]
  },
  {
   "cell_type": "code",
   "execution_count": 68,
   "metadata": {},
   "outputs": [
    {
     "data": {
      "text/plain": [
       "470"
      ]
     },
     "execution_count": 68,
     "metadata": {},
     "output_type": "execute_result"
    }
   ],
   "source": [
    "#check the length of mydict\n",
    "len(mydict)"
   ]
  },
  {
   "cell_type": "code",
   "execution_count": 50,
   "metadata": {},
   "outputs": [],
   "source": [
    "# Edge is the connection between two nodes (webpages)\n",
    "#Nodes: A node is a unit in the network -website page"
   ]
  },
  {
   "cell_type": "code",
   "execution_count": 67,
   "metadata": {},
   "outputs": [
    {
     "name": "stdout",
     "output_type": "stream",
     "text": [
      "Graph has 23 nodes, and 222 edges.\n"
     ]
    }
   ],
   "source": [
    "n_nodes = len(G.nodes)\n",
    "n_edges = len(G.edges)\n",
    "print(f'Graph has {n_nodes} nodes, and {n_edges} edges.')"
   ]
  },
  {
   "cell_type": "markdown",
   "metadata": {},
   "source": [
    "#### page rank - a measure of web page connectedness\n",
    "- low page rank = fewer inbound links\n",
    "- high page rank - large number of inbound links\n"
   ]
  },
  {
   "cell_type": "code",
   "execution_count": 69,
   "metadata": {},
   "outputs": [
    {
     "data": {
      "text/html": [
       "<div>\n",
       "<style scoped>\n",
       "    .dataframe tbody tr th:only-of-type {\n",
       "        vertical-align: middle;\n",
       "    }\n",
       "\n",
       "    .dataframe tbody tr th {\n",
       "        vertical-align: top;\n",
       "    }\n",
       "\n",
       "    .dataframe thead th {\n",
       "        text-align: right;\n",
       "    }\n",
       "</style>\n",
       "<table border=\"1\" class=\"dataframe\">\n",
       "  <thead>\n",
       "    <tr style=\"text-align: right;\">\n",
       "      <th></th>\n",
       "      <th>pagerank</th>\n",
       "    </tr>\n",
       "  </thead>\n",
       "  <tbody>\n",
       "    <tr>\n",
       "      <th>Home Page</th>\n",
       "      <td>0.117395</td>\n",
       "    </tr>\n",
       "    <tr>\n",
       "      <th>General Item Info</th>\n",
       "      <td>0.336205</td>\n",
       "    </tr>\n",
       "    <tr>\n",
       "      <th>Quick View</th>\n",
       "      <td>0.125866</td>\n",
       "    </tr>\n",
       "    <tr>\n",
       "      <th>Shipping Info</th>\n",
       "      <td>0.007244</td>\n",
       "    </tr>\n",
       "    <tr>\n",
       "      <th>Select Brand</th>\n",
       "      <td>0.027903</td>\n",
       "    </tr>\n",
       "  </tbody>\n",
       "</table>\n",
       "</div>"
      ],
      "text/plain": [
       "                   pagerank\n",
       "Home Page          0.117395\n",
       "General Item Info  0.336205\n",
       "Quick View         0.125866\n",
       "Shipping Info      0.007244\n",
       "Select Brand       0.027903"
      ]
     },
     "execution_count": 69,
     "metadata": {},
     "output_type": "execute_result"
    }
   ],
   "source": [
    "# Find pagerank of each pagepath\n",
    "pagerank_dict = nx.pagerank(G)\n",
    "\n",
    "pagerank_df = pd.DataFrame.from_dict(pagerank_dict, orient='index')\n",
    "pagerank_df.columns = ['pagerank']\n",
    "pagerank_df.head()"
   ]
  },
  {
   "cell_type": "code",
   "execution_count": 70,
   "metadata": {},
   "outputs": [
    {
     "data": {
      "text/plain": [
       "General Item Info    0.336205\n",
       "Quick View           0.125866\n",
       "Home Page            0.117395\n",
       "Basket               0.106858\n",
       "Store                0.042278\n",
       "Sign in              0.028331\n",
       "Select Brand         0.027903\n",
       "Payment              0.027660\n",
       "Search               0.026221\n",
       "Account Settings     0.024868\n",
       "Name: pagerank, dtype: float64"
      ]
     },
     "execution_count": 70,
     "metadata": {},
     "output_type": "execute_result"
    }
   ],
   "source": [
    "# Top 10 Page rank \n",
    "\n",
    "# Use nlargest to get 10 nodes with greatest pagerank\n",
    "pagerank_ten = pagerank_df.nlargest(10, 'pagerank')\n",
    "\n",
    "#sort values in desc order\n",
    "pagerank_ten['pagerank'].sort_values(ascending=False)"
   ]
  },
  {
   "cell_type": "code",
   "execution_count": 71,
   "metadata": {},
   "outputs": [
    {
     "name": "stdout",
     "output_type": "stream",
     "text": [
      "first few edges: [('Home Page', 'Home Page'), ('Home Page', 'General Item Info'), ('Home Page', 'Quick View'), ('Home Page', 'Shipping Info'), ('Home Page', 'Select Brand')]\n"
     ]
    }
   ],
   "source": [
    "# See edges\n",
    "###how to see edges: connections of web pages viewed for one visitor \n",
    "print(f'first few edges: {list(G.edges())[:5]}')"
   ]
  },
  {
   "cell_type": "markdown",
   "metadata": {},
   "source": [
    "#### Connectedness\n",
    "\n",
    "Check if network is completely connected or if there are subgraphs."
   ]
  },
  {
   "cell_type": "code",
   "execution_count": 72,
   "metadata": {},
   "outputs": [
    {
     "data": {
      "text/plain": [
       "True"
      ]
     },
     "execution_count": 72,
     "metadata": {},
     "output_type": "execute_result"
    }
   ],
   "source": [
    "#the graph is connected - no subgraphs\n",
    "nx.is_connected(G)"
   ]
  },
  {
   "cell_type": "code",
   "execution_count": 83,
   "metadata": {},
   "outputs": [],
   "source": [
    "# Writing data out to Gephi format (.gexf)\n",
    "nx.write_gexf(G, 'GoogleMerch_contentgroup_graph.gexf')"
   ]
  }
 ],
 "metadata": {
  "kernelspec": {
   "display_name": "Python 3",
   "language": "python",
   "name": "python3"
  },
  "language_info": {
   "codemirror_mode": {
    "name": "ipython",
    "version": 3
   },
   "file_extension": ".py",
   "mimetype": "text/x-python",
   "name": "python",
   "nbconvert_exporter": "python",
   "pygments_lexer": "ipython3",
   "version": "3.7.1"
  }
 },
 "nbformat": 4,
 "nbformat_minor": 2
}
